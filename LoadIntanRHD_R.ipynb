{
 "cells": [
  {
   "cell_type": "markdown",
   "id": "d3672ddb",
   "metadata": {},
   "source": [
    "# Load Data from an Intan RHD file.\n",
    "### Header information (and saved data, if present) will be stored in the *result* variable. You'll also be able to specify a channel's name to plot its recorded data as an example of accessing data from *result*."
   ]
  },
  {
   "cell_type": "code",
   "execution_count": null,
   "id": "e545df94",
   "metadata": {},
   "outputs": [],
   "source": [
    "# Load the background R functions that allow for data loading and plotting\n",
    "source(\"importrhdutilities.r\")"
   ]
  },
  {
   "cell_type": "markdown",
   "id": "235441f7",
   "metadata": {},
   "source": [
    "### Name of file to load. To load a different file, move it to the same directory as this notebook, and change the following 'filename' variable to point to the name of your file."
   ]
  },
  {
   "cell_type": "code",
   "execution_count": null,
   "id": "29e58e69",
   "metadata": {},
   "outputs": [],
   "source": [
    "filename = \"sampledata.rhd\" # Change this variable to load a different data file\n",
    "returnList = load_file(filename)\n",
    "result = returnList$result\n",
    "data_present = returnList$data_present"
   ]
  },
  {
   "cell_type": "markdown",
   "id": "4ffe57ba",
   "metadata": {},
   "source": [
    "### Once a file is loaded, all of its information is stored in the *result* variable. If further analysis of recorded data is desired, this is the variable that should be used."
   ]
  },
  {
   "cell_type": "code",
   "execution_count": null,
   "id": "862adf79",
   "metadata": {
    "scrolled": false
   },
   "outputs": [],
   "source": [
    "#print_all_channel_names(result) # Uncomment this line and re-run cell to display names of all available channels"
   ]
  },
  {
   "cell_type": "code",
   "execution_count": null,
   "id": "a29fac23",
   "metadata": {},
   "outputs": [],
   "source": [
    "channel_name = \"A-007\" # Change this variable and re-run cell to plot a different channel\n",
    "\n",
    "if (data_present == 1) {\n",
    "    plot_channel(channel_name, result)\n",
    "} else {\n",
    "    print(\"Plotting not possible; no data in this file\")\n",
    "}"
   ]
  }
 ],
 "metadata": {
  "kernelspec": {
   "display_name": "R",
   "language": "R",
   "name": "ir"
  },
  "language_info": {
   "codemirror_mode": "r",
   "file_extension": ".r",
   "mimetype": "text/x-r-source",
   "name": "R",
   "pygments_lexer": "r",
   "version": "4.1.0"
  }
 },
 "nbformat": 4,
 "nbformat_minor": 5
}
