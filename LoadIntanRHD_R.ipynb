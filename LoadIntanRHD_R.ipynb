{
 "cells": [
  {
   "cell_type": "markdown",
   "id": "d3672ddb",
   "metadata": {},
   "source": [
    "# Load Data from an Intan RHD file.\n",
    "### Header information (and saved data, if present) will be stored in the *result* variable. You'll also be able to specify a channel's name to plot its recorded data as an example of accessing data from *result*."
   ]
  },
  {
   "cell_type": "code",
   "execution_count": 1,
   "id": "e545df94",
   "metadata": {},
   "outputs": [],
   "source": [
    "# Load the background R functions that allow for data loading and plotting\n",
    "source(\"importrhdutilities.r\")"
   ]
  },
  {
   "cell_type": "markdown",
   "id": "235441f7",
   "metadata": {},
   "source": [
    "### Name of file to load. To load a different file, move it to the same directory as this notebook, and change the following 'filename' variable to point to the name of your file.\n",
    "\n",
    "### Once a file is loaded, all of its information is stored in the *result* variable. If further analysis of this data is desired, this is the variable that should be accessed"
   ]
  },
  {
   "cell_type": "code",
   "execution_count": 2,
   "id": "29e58e69",
   "metadata": {},
   "outputs": [
    {
     "name": "stdout",
     "output_type": "stream",
     "text": [
      "Reading Intan Technologies RHD2000 Data File, Version 3.0\n",
      "Found 128 amplifier channels\n",
      "Found 6 auxiliary input channels\n",
      "Found 0 supply voltage channels\n",
      "Found 2 board ADC channels\n",
      "Found 2 board digital input channels\n",
      "Found 2 board digital output channels\n",
      "Found 0 temperature sensor channels\n",
      "\n",
      "File contains 5.8112 seconds of data. Amplifiers were sampled at 20 kS/s.\n",
      "Allocating memory for data...\n",
      "Reading data from file...\n",
      "10% done...\n",
      "20% done...\n",
      "30% done...\n",
      "40% done...\n",
      "50% done...\n",
      "60% done...\n",
      "70% done...\n",
      "80% done...\n",
      "90% done...\n",
      "100% done...\n",
      "Parsing data...\n",
      "No missing timestamps in data.\n",
      "Done! Elapsed time: 2.11510265270869 seconds\n"
     ]
    }
   ],
   "source": [
    "#filename = \"sampledata.rhd\" # Change this variable to load a different data file\n",
    "filename = \"comp_1024_rhx.rhd\"\n",
    "returnList = load_file(filename)\n",
    "result = returnList$result\n",
    "data_present = returnList$data_present"
   ]
  },
  {
   "cell_type": "markdown",
   "id": "4ffe57ba",
   "metadata": {},
   "source": [
    "### Once a file is loaded, all of its information is stored in the *result* variable. If further analysis of recorded data is desired, this is the variable that should be used."
   ]
  },
  {
   "cell_type": "code",
   "execution_count": 3,
   "id": "862adf79",
   "metadata": {
    "scrolled": false
   },
   "outputs": [
    {
     "name": "stdout",
     "output_type": "stream",
     "text": [
      "E-000\n",
      "E-001\n",
      "E-002\n",
      "E-003\n",
      "E-004\n",
      "E-005\n",
      "E-006\n",
      "E-007\n",
      "E-008\n",
      "E-009\n",
      "E-010\n",
      "E-011\n",
      "E-012\n",
      "E-013\n",
      "E-014\n",
      "E-015\n",
      "E-016\n",
      "E-017\n",
      "E-018\n",
      "E-019\n",
      "E-020\n",
      "E-021\n",
      "E-022\n",
      "E-023\n",
      "E-024\n",
      "E-025\n",
      "E-026\n",
      "E-027\n",
      "E-028\n",
      "E-029\n",
      "E-030\n",
      "E-031\n",
      "E-032\n",
      "E-033\n",
      "E-034\n",
      "E-035\n",
      "E-036\n",
      "E-037\n",
      "E-038\n",
      "E-039\n",
      "E-040\n",
      "E-041\n",
      "E-042\n",
      "E-043\n",
      "E-044\n",
      "E-045\n",
      "E-046\n",
      "E-047\n",
      "E-048\n",
      "E-049\n",
      "E-050\n",
      "E-051\n",
      "E-052\n",
      "E-053\n",
      "E-054\n",
      "E-055\n",
      "E-056\n",
      "E-057\n",
      "E-058\n",
      "E-059\n",
      "E-060\n",
      "E-061\n",
      "E-062\n",
      "E-063\n",
      "E-064\n",
      "E-065\n",
      "E-066\n",
      "E-067\n",
      "E-068\n",
      "E-069\n",
      "E-070\n",
      "E-071\n",
      "E-072\n",
      "E-073\n",
      "E-074\n",
      "E-075\n",
      "E-076\n",
      "E-077\n",
      "E-078\n",
      "E-079\n",
      "E-080\n",
      "E-081\n",
      "E-082\n",
      "E-083\n",
      "E-084\n",
      "E-085\n",
      "E-086\n",
      "E-087\n",
      "E-088\n",
      "E-089\n",
      "E-090\n",
      "E-091\n",
      "E-092\n",
      "E-093\n",
      "E-094\n",
      "E-095\n",
      "E-096\n",
      "E-097\n",
      "E-098\n",
      "E-099\n",
      "E-100\n",
      "E-101\n",
      "E-102\n",
      "E-103\n",
      "E-104\n",
      "E-105\n",
      "E-106\n",
      "E-107\n",
      "E-108\n",
      "E-109\n",
      "E-110\n",
      "E-111\n",
      "E-112\n",
      "E-113\n",
      "E-114\n",
      "E-115\n",
      "E-116\n",
      "E-117\n",
      "E-118\n",
      "E-119\n",
      "E-120\n",
      "E-121\n",
      "E-122\n",
      "E-123\n",
      "E-124\n",
      "E-125\n",
      "E-126\n",
      "E-127\n",
      "E-AUX1\n",
      "E-AUX2\n",
      "E-AUX3\n",
      "E-AUX4\n",
      "E-AUX5\n",
      "E-AUX6\n",
      "ANALOG-IN-1\n",
      "ANALOG-IN-2\n",
      "DIGITAL-IN-01\n",
      "DIGITAL-IN-02\n",
      "DIGITAL-OUT-01\n",
      "DIGITAL-OUT-02\n"
     ]
    }
   ],
   "source": [
    "print_all_channel_names(result) # Uncomment this line and re-run cell to display names of all available channels"
   ]
  },
  {
   "cell_type": "code",
   "execution_count": 9,
   "id": "a29fac23",
   "metadata": {},
   "outputs": [
    {
     "data": {
      "image/png": "[encoded data removed]",
      "text/plain": [
       "Plot with title \"DIGITAL-OUT-01\""
      ]
     },
     "metadata": {
      "image/png": {
       "height": 420,
       "width": 420
      }
     },
     "output_type": "display_data"
    }
   ],
   "source": [
    "channel_name = \"A-007\" # Change this variable and re-run cell to plot a different channel\n",
    "\n",
    "if (data_present == 1) {\n",
    "    plot_channel(channel_name, result)\n",
    "} else {\n",
    "    print(\"Plotting not possible; no data in this file\")\n",
    "}"
   ]
  }
 ],
 "metadata": {
  "kernelspec": {
   "display_name": "R",
   "language": "R",
   "name": "ir"
  },
  "language_info": {
   "codemirror_mode": "r",
   "file_extension": ".r",
   "mimetype": "text/x-r-source",
   "name": "R",
   "pygments_lexer": "r",
   "version": "4.1.0"
  }
 },
 "nbformat": 4,
 "nbformat_minor": 5
}
